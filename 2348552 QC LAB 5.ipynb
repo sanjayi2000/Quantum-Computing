{
 "cells": [
  {
   "cell_type": "code",
   "execution_count": 13,
   "metadata": {},
   "outputs": [],
   "source": [
    "import numpy as np\n",
    "from qiskit import QuantumCircuit,transpile,assemble\n",
    "from qiskit.visualization import plot_histogram\n",
    "from qiskit_aer import Aer\n",
    "from qiskit.quantum_info import Statevector\n",
    "import matplotlib.pyplot as plt"
   ]
  },
  {
   "cell_type": "code",
   "execution_count": 14,
   "metadata": {},
   "outputs": [],
   "source": [
    "def teleportation_circuit(state_vector):\n",
    "    # Create a quantum circuit with 3 qubits and 2 classical bits\n",
    "    circuit = QuantumCircuit(3, 2)\n",
    "\n",
    "    # Create entangled pair with qubits 1 and 2\n",
    "    circuit.h(1)\n",
    "    circuit.cx(1, 2)\n",
    "\n",
    "    # **Change: Initialize only qubit 0 with the state vector**\n",
    "    circuit.initialize(state_vector, [0])  # Correctly initializes only qubit 0\n",
    "\n",
    "    # Barrier for visualization\n",
    "    circuit.barrier()\n",
    "\n",
    "    # Bell state measurement\n",
    "    circuit.cx(0, 1)  # CNOT from qubit 0 to qubit 1\n",
    "    circuit.h(0)      # Hadamard on qubit 0\n",
    "\n",
    "    # Barrier for visualization\n",
    "    circuit.barrier()\n",
    "\n",
    "    # Measure qubits 0 and 1\n",
    "    circuit.measure([0, 1], [0, 1])\n",
    "\n",
    "    # Apply corrections based on measurement outcomes\n",
    "    circuit.x(2).c_if(circuit.clbits[1], 1)  # Apply X gate if qubit 1 measurement is 1\n",
    "    circuit.z(2).c_if(circuit.clbits[0], 1)  # Apply Z gate if qubit 0 measurement is 1\n",
    "\n",
    "    # Visualize the circuit\n",
    "    print(\"Quantum Teleportation Circuit:\")\n",
    "    circuit.draw('mpl')\n",
    "\n",
    "    # Transpile the circuit for the aer_simulator backend\n",
    "    aer_simulator = Aer.get_backend('aer_simulator')\n",
    "    transpiled_circuit = transpile(circuit, aer_simulator)\n",
    "    \n",
    "    return transpiled_circuit"
   ]
  },
  {
   "cell_type": "markdown",
   "metadata": {},
   "source": []
  },
  {
   "cell_type": "code",
   "execution_count": 15,
   "metadata": {},
   "outputs": [],
   "source": [
    "state_vectors=[[1,0,0,0],\n",
    "               [0,1,0,0],\n",
    "               [1/np.sqrt(2),0,0,1/np.sqrt(2)],\n",
    "               [1/np.sqrt(2),1/np.sqrt(2),0,0],]"
   ]
  },
  {
   "cell_type": "code",
   "execution_count": 16,
   "metadata": {},
   "outputs": [
    {
     "ename": "QiskitError",
     "evalue": "'StatePreparation parameter vector has 4 elements, therefore expects 2 qubits. However, 1 were provided.'",
     "output_type": "error",
     "traceback": [
      "\u001b[1;31m---------------------------------------------------------------------------\u001b[0m",
      "\u001b[1;31mQiskitError\u001b[0m                               Traceback (most recent call last)",
      "Cell \u001b[1;32mIn[16], line 2\u001b[0m\n\u001b[0;32m      1\u001b[0m \u001b[38;5;28;01mfor\u001b[39;00m state_vector \u001b[38;5;129;01min\u001b[39;00m state_vectors:\n\u001b[1;32m----> 2\u001b[0m     transpiled_circuit\u001b[38;5;241m=\u001b[39m\u001b[43mteleportation_circuit\u001b[49m\u001b[43m(\u001b[49m\u001b[43mstate_vector\u001b[49m\u001b[43m)\u001b[49m\n\u001b[0;32m      3\u001b[0m     \u001b[38;5;28mprint\u001b[39m(\u001b[38;5;124mf\u001b[39m\u001b[38;5;124m\"\u001b[39m\u001b[38;5;124mTranspiled Circuit for state\u001b[39m\u001b[38;5;132;01m{\u001b[39;00mstate_vector\u001b[38;5;132;01m}\u001b[39;00m\u001b[38;5;124m:\u001b[39m\u001b[38;5;124m\"\u001b[39m)\n\u001b[0;32m      4\u001b[0m     \u001b[38;5;28mprint\u001b[39m(transpiled_circuit)\n",
      "Cell \u001b[1;32mIn[14], line 10\u001b[0m, in \u001b[0;36mteleportation_circuit\u001b[1;34m(state_vector)\u001b[0m\n\u001b[0;32m      7\u001b[0m circuit\u001b[38;5;241m.\u001b[39mcx(\u001b[38;5;241m1\u001b[39m, \u001b[38;5;241m2\u001b[39m)\n\u001b[0;32m      9\u001b[0m \u001b[38;5;66;03m# **Change: Initialize only qubit 0 with the state vector**\u001b[39;00m\n\u001b[1;32m---> 10\u001b[0m \u001b[43mcircuit\u001b[49m\u001b[38;5;241;43m.\u001b[39;49m\u001b[43minitialize\u001b[49m\u001b[43m(\u001b[49m\u001b[43mstate_vector\u001b[49m\u001b[43m,\u001b[49m\u001b[43m \u001b[49m\u001b[43m[\u001b[49m\u001b[38;5;241;43m0\u001b[39;49m\u001b[43m]\u001b[49m\u001b[43m)\u001b[49m  \u001b[38;5;66;03m# Correctly initializes only qubit 0\u001b[39;00m\n\u001b[0;32m     12\u001b[0m \u001b[38;5;66;03m# Barrier for visualization\u001b[39;00m\n\u001b[0;32m     13\u001b[0m circuit\u001b[38;5;241m.\u001b[39mbarrier()\n",
      "File \u001b[1;32m~\\AppData\\Local\\Packages\\PythonSoftwareFoundation.Python.3.10_qbz5n2kfra8p0\\LocalCache\\local-packages\\Python310\\site-packages\\qiskit\\circuit\\quantumcircuit.py:5866\u001b[0m, in \u001b[0;36mQuantumCircuit.initialize\u001b[1;34m(self, params, qubits, normalize)\u001b[0m\n\u001b[0;32m   5862\u001b[0m     qubits \u001b[38;5;241m=\u001b[39m [qubits]\n\u001b[0;32m   5864\u001b[0m num_qubits \u001b[38;5;241m=\u001b[39m \u001b[38;5;28mlen\u001b[39m(qubits) \u001b[38;5;28;01mif\u001b[39;00m \u001b[38;5;28misinstance\u001b[39m(params, \u001b[38;5;28mint\u001b[39m) \u001b[38;5;28;01melse\u001b[39;00m \u001b[38;5;28;01mNone\u001b[39;00m\n\u001b[1;32m-> 5866\u001b[0m \u001b[38;5;28;01mreturn\u001b[39;00m \u001b[38;5;28;43mself\u001b[39;49m\u001b[38;5;241;43m.\u001b[39;49m\u001b[43mappend\u001b[49m\u001b[43m(\u001b[49m\u001b[43mInitialize\u001b[49m\u001b[43m(\u001b[49m\u001b[43mparams\u001b[49m\u001b[43m,\u001b[49m\u001b[43m \u001b[49m\u001b[43mnum_qubits\u001b[49m\u001b[43m,\u001b[49m\u001b[43m \u001b[49m\u001b[43mnormalize\u001b[49m\u001b[43m)\u001b[49m\u001b[43m,\u001b[49m\u001b[43m \u001b[49m\u001b[43mqubits\u001b[49m\u001b[43m,\u001b[49m\u001b[43m \u001b[49m\u001b[43mcopy\u001b[49m\u001b[38;5;241;43m=\u001b[39;49m\u001b[38;5;28;43;01mFalse\u001b[39;49;00m\u001b[43m)\u001b[49m\n",
      "File \u001b[1;32m~\\AppData\\Local\\Packages\\PythonSoftwareFoundation.Python.3.10_qbz5n2kfra8p0\\LocalCache\\local-packages\\Python310\\site-packages\\qiskit\\circuit\\quantumcircuit.py:2528\u001b[0m, in \u001b[0;36mQuantumCircuit.append\u001b[1;34m(self, instruction, qargs, cargs, copy)\u001b[0m\n\u001b[0;32m   2522\u001b[0m broadcast_iter \u001b[38;5;241m=\u001b[39m (\n\u001b[0;32m   2523\u001b[0m     operation\u001b[38;5;241m.\u001b[39mbroadcast_arguments(expanded_qargs, expanded_cargs)\n\u001b[0;32m   2524\u001b[0m     \u001b[38;5;28;01mif\u001b[39;00m \u001b[38;5;28misinstance\u001b[39m(operation, Instruction)\n\u001b[0;32m   2525\u001b[0m     \u001b[38;5;28;01melse\u001b[39;00m Instruction\u001b[38;5;241m.\u001b[39mbroadcast_arguments(operation, expanded_qargs, expanded_cargs)\n\u001b[0;32m   2526\u001b[0m )\n\u001b[0;32m   2527\u001b[0m base_instruction \u001b[38;5;241m=\u001b[39m CircuitInstruction(operation, (), ())\n\u001b[1;32m-> 2528\u001b[0m \u001b[38;5;28;01mfor\u001b[39;00m qarg, carg \u001b[38;5;129;01min\u001b[39;00m broadcast_iter:\n\u001b[0;32m   2529\u001b[0m     \u001b[38;5;28mself\u001b[39m\u001b[38;5;241m.\u001b[39m_check_dups(qarg)\n\u001b[0;32m   2530\u001b[0m     instruction \u001b[38;5;241m=\u001b[39m base_instruction\u001b[38;5;241m.\u001b[39mreplace(qubits\u001b[38;5;241m=\u001b[39mqarg, clbits\u001b[38;5;241m=\u001b[39mcarg)\n",
      "File \u001b[1;32m~\\AppData\\Local\\Packages\\PythonSoftwareFoundation.Python.3.10_qbz5n2kfra8p0\\LocalCache\\local-packages\\Python310\\site-packages\\qiskit\\circuit\\library\\data_preparation\\state_preparation.py:216\u001b[0m, in \u001b[0;36mStatePreparation.broadcast_arguments\u001b[1;34m(self, qargs, cargs)\u001b[0m\n\u001b[0;32m    213\u001b[0m flat_qargs \u001b[38;5;241m=\u001b[39m [qarg \u001b[38;5;28;01mfor\u001b[39;00m sublist \u001b[38;5;129;01min\u001b[39;00m qargs \u001b[38;5;28;01mfor\u001b[39;00m qarg \u001b[38;5;129;01min\u001b[39;00m sublist]\n\u001b[0;32m    215\u001b[0m \u001b[38;5;28;01mif\u001b[39;00m \u001b[38;5;28mself\u001b[39m\u001b[38;5;241m.\u001b[39mnum_qubits \u001b[38;5;241m!=\u001b[39m \u001b[38;5;28mlen\u001b[39m(flat_qargs):\n\u001b[1;32m--> 216\u001b[0m     \u001b[38;5;28;01mraise\u001b[39;00m QiskitError(\n\u001b[0;32m    217\u001b[0m         \u001b[38;5;124mf\u001b[39m\u001b[38;5;124m\"\u001b[39m\u001b[38;5;124mStatePreparation parameter vector has \u001b[39m\u001b[38;5;132;01m{\u001b[39;00m\u001b[38;5;241m2\u001b[39m\u001b[38;5;241m*\u001b[39m\u001b[38;5;241m*\u001b[39m\u001b[38;5;28mself\u001b[39m\u001b[38;5;241m.\u001b[39mnum_qubits\u001b[38;5;132;01m}\u001b[39;00m\u001b[38;5;124m\"\u001b[39m\n\u001b[0;32m    218\u001b[0m         \u001b[38;5;124mf\u001b[39m\u001b[38;5;124m\"\u001b[39m\u001b[38;5;124m elements, therefore expects \u001b[39m\u001b[38;5;132;01m{\u001b[39;00m\u001b[38;5;28mself\u001b[39m\u001b[38;5;241m.\u001b[39mnum_qubits\u001b[38;5;132;01m}\u001b[39;00m\u001b[38;5;124m \u001b[39m\u001b[38;5;124m\"\u001b[39m\n\u001b[0;32m    219\u001b[0m         \u001b[38;5;124mf\u001b[39m\u001b[38;5;124m\"\u001b[39m\u001b[38;5;124mqubits. However, \u001b[39m\u001b[38;5;132;01m{\u001b[39;00m\u001b[38;5;28mlen\u001b[39m(flat_qargs)\u001b[38;5;132;01m}\u001b[39;00m\u001b[38;5;124m were provided.\u001b[39m\u001b[38;5;124m\"\u001b[39m\n\u001b[0;32m    220\u001b[0m     )\n\u001b[0;32m    221\u001b[0m \u001b[38;5;28;01myield\u001b[39;00m flat_qargs, []\n",
      "\u001b[1;31mQiskitError\u001b[0m: 'StatePreparation parameter vector has 4 elements, therefore expects 2 qubits. However, 1 were provided.'"
     ]
    }
   ],
   "source": [
    "for state_vector in state_vectors:\n",
    "    transpiled_circuit=teleportation_circuit(state_vector)\n",
    "    print(f\"Transpiled Circuit for state{state_vector}:\")\n",
    "    print(transpiled_circuit)"
   ]
  },
  {
   "cell_type": "code",
   "execution_count": null,
   "metadata": {},
   "outputs": [],
   "source": []
  }
 ],
 "metadata": {
  "kernelspec": {
   "display_name": "Python 3",
   "language": "python",
   "name": "python3"
  },
  "language_info": {
   "codemirror_mode": {
    "name": "ipython",
    "version": 3
   },
   "file_extension": ".py",
   "mimetype": "text/x-python",
   "name": "python",
   "nbconvert_exporter": "python",
   "pygments_lexer": "ipython3",
   "version": "3.10.11"
  }
 },
 "nbformat": 4,
 "nbformat_minor": 2
}
