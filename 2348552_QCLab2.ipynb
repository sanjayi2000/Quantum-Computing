{
 "cells": [
  {
   "cell_type": "code",
   "execution_count": 6,
   "metadata": {},
   "outputs": [],
   "source": [
    "from qiskit import QuantumCircuit\n",
    "from qiskit.visualization import plot_histogram\n",
    "import numpy as np"
   ]
  },
  {
   "cell_type": "code",
   "execution_count": 7,
   "metadata": {},
   "outputs": [],
   "source": [
    "# Create a quantum circuit with 1 qubit\n",
    "qc = QuantumCircuit(1)"
   ]
  },
  {
   "cell_type": "code",
   "execution_count": 9,
   "metadata": {},
   "outputs": [
    {
     "data": {
      "text/plain": [
       "<qiskit.circuit.instructionset.InstructionSet at 0x24a846c0460>"
      ]
     },
     "execution_count": 9,
     "metadata": {},
     "output_type": "execute_result"
    }
   ],
   "source": [
    "# Apply gates in order: X, Y, Z, H, S, T\n",
    "qc.x(0)  # X gate\n",
    "qc.y(0)  # Y gate\n",
    "qc.z(0)  # Z gate\n",
    "qc.h(0)  # Hadamard gate\n",
    "qc.s(0)  # S gate\n",
    "qc.t(0)  # T gate"
   ]
  },
  {
   "cell_type": "code",
   "execution_count": 10,
   "metadata": {},
   "outputs": [
    {
     "data": {
      "image/png": "[encoded data removed]",
      "text/plain": [
       "<Figure size 603.508x117.056 with 1 Axes>"
      ]
     },
     "execution_count": 10,
     "metadata": {},
     "output_type": "execute_result"
    }
   ],
   "source": [
    "# Draw the circuit\n",
    "qc.draw('mpl')"
   ]
  },
  {
   "cell_type": "code",
   "execution_count": 11,
   "metadata": {},
   "outputs": [
    {
     "data": {
      "text/plain": [
       "array([[0. -0.70710678j],\n",
       "       [0.5+0.5j       ]])"
      ]
     },
     "execution_count": 11,
     "metadata": {},
     "output_type": "execute_result"
    }
   ],
   "source": [
    "# Define the gates as mentioned\n",
    "def apply_gate(state, gate):\n",
    "    return np.dot(gate, state)\n",
    "\n",
    "# Define the gates as matrices\n",
    "X = np.array([[0, 1], [1, 0]])\n",
    "Y = np.array([[0, -1j], [1j, 0]])\n",
    "Z = np.array([[1, 0], [0, -1]])\n",
    "H = np.array([[1, 1], [1, -1]]) / np.sqrt(2)\n",
    "S = np.array([[1, 0], [0, 1j]])\n",
    "T = np.array([[1, 0], [0, np.exp(1j * np.pi / 4)]])\n",
    "\n",
    "# Start with the |0> state\n",
    "initial_state = np.array([[1], [0]])\n",
    "\n",
    "# Apply the operations sequentially on the state vector\n",
    "state = apply_gate(initial_state, X)\n",
    "state = apply_gate(state, Y)\n",
    "state = apply_gate(state, Z)\n",
    "state = apply_gate(state, H)\n",
    "state = apply_gate(state, S)\n",
    "state = apply_gate(state, T)\n",
    "\n",
    "# Display the resultant state vector\n",
    "resultant_state = state\n",
    "resultant_state"
   ]
  },
  {
   "cell_type": "code",
   "execution_count": 12,
   "metadata": {},
   "outputs": [
    {
     "data": {
      "text/plain": [
       "array([[0.5+0.5j],\n",
       "       [0.5-0.5j]])"
      ]
     },
     "execution_count": 12,
     "metadata": {},
     "output_type": "execute_result"
    }
   ],
   "source": [
    "# Define R = HSH\n",
    "R = np.dot(H, np.dot(S, H))\n",
    "\n",
    "# Calculate R applied to |0>\n",
    "R_on_0 = apply_gate(initial_state, R)\n",
    "R_on_0  # Result of R applied to |0>"
   ]
  },
  {
   "cell_type": "code",
   "execution_count": 13,
   "metadata": {},
   "outputs": [
    {
     "data": {
      "text/plain": [
       "{0: 4958, 1: 5042}"
      ]
     },
     "execution_count": 13,
     "metadata": {},
     "output_type": "execute_result"
    }
   ],
   "source": [
    "# Function to sample based on probabilities\n",
    "def sample_from_state(state, num_samples):\n",
    "    probabilities = np.abs(state.flatten())**2\n",
    "    outcomes = np.array([0, 1])\n",
    "    return np.random.choice(outcomes, size=num_samples, p=probabilities)\n",
    "\n",
    "# Sample 10,000 times\n",
    "num_samples = 10000\n",
    "samples = sample_from_state(state, num_samples)\n",
    "\n",
    "# Count the results\n",
    "counts = {0: np.sum(samples == 0), 1: np.sum(samples == 1)}\n",
    "counts"
   ]
  },
  {
   "cell_type": "code",
   "execution_count": 14,
   "metadata": {},
   "outputs": [
    {
     "data": {
      "image/png": "[encoded data removed]",
      "text/plain": [
       "<Figure size 640x480 with 1 Axes>"
      ]
     },
     "metadata": {},
     "output_type": "display_data"
    }
   ],
   "source": [
    "import matplotlib.pyplot as plt\n",
    "\n",
    "# Plot the results\n",
    "labels = ['|0>', '|1>']\n",
    "values = [counts[0], counts[1]]\n",
    "\n",
    "plt.bar(labels, values)\n",
    "plt.title('Measurement Results after 10,000 Samples')\n",
    "plt.ylabel('Counts')\n",
    "plt.show()"
   ]
  },
  {
   "cell_type": "code",
   "execution_count": null,
   "metadata": {},
   "outputs": [],
   "source": []
  }
 ],
 "metadata": {
  "kernelspec": {
   "display_name": "Python 3",
   "language": "python",
   "name": "python3"
  },
  "language_info": {
   "codemirror_mode": {
    "name": "ipython",
    "version": 3
   },
   "file_extension": ".py",
   "mimetype": "text/x-python",
   "name": "python",
   "nbconvert_exporter": "python",
   "pygments_lexer": "ipython3",
   "version": "3.10.11"
  }
 },
 "nbformat": 4,
 "nbformat_minor": 2
}
