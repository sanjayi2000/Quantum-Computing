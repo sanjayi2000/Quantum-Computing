{
 "cells": [
  {
   "cell_type": "code",
   "execution_count": 11,
   "metadata": {},
   "outputs": [],
   "source": [
    "from qiskit import QuantumCircuit, QuantumRegister, ClassicalRegister\n",
    "from qiskit_aer import AerSimulator\n",
    "from qiskit.visualization import plot_histogram\n",
    "from numpy import random\n",
    "import matplotlib.pyplot as plt"
   ]
  },
  {
   "cell_type": "code",
   "execution_count": 12,
   "metadata": {},
   "outputs": [],
   "source": [
    "# Create quantum and classical registers\n",
    "alice_qubit = QuantumRegister(1, \"alice\")       # Alice's qubit in the entangled pair\n",
    "bob_qubit = QuantumRegister(1, \"bob\")           # Bob's qubit in the entangled pair\n",
    "random_bit = QuantumRegister(1, \"random\")       # Random bit generator qubit\n",
    "alice_classical = ClassicalRegister(2, \"alice_bits\")  # Stores c and d for verification\n",
    "bob_classical = ClassicalRegister(2, \"bob_bits\")      # Measurement results for comparison"
   ]
  },
  {
   "cell_type": "code",
   "execution_count": 13,
   "metadata": {},
   "outputs": [],
   "source": [
    "# Quantum circuit for superdense coding\n",
    "circuit = QuantumCircuit(alice_qubit, bob_qubit, random_bit, alice_classical, bob_classical)"
   ]
  },
  {
   "cell_type": "markdown",
   "metadata": {},
   "source": [
    "# Step 1: Entangle Alice's and Bob's qubits"
   ]
  },
  {
   "cell_type": "code",
   "execution_count": null,
   "metadata": {},
   "outputs": [
    {
     "data": {
      "text/plain": [
       "CircuitInstruction(operation=Instruction(name='barrier', num_qubits=3, num_clbits=0, params=[]), qubits=(Qubit(QuantumRegister(1, 'alice'), 0), Qubit(QuantumRegister(1, 'bob'), 0), Qubit(QuantumRegister(1, 'random'), 0)), clbits=())"
      ]
     },
     "execution_count": 14,
     "metadata": {},
     "output_type": "execute_result"
    }
   ],
   "source": [
    "\n",
    "circuit.h(alice_qubit)\n",
    "circuit.cx(alice_qubit, bob_qubit)\n",
    "circuit.barrier()"
   ]
  },
  {
   "cell_type": "markdown",
   "metadata": {},
   "source": [
    "# Step 2: Generate random classical bits c and d using the random qubit"
   ]
  },
  {
   "cell_type": "code",
   "execution_count": null,
   "metadata": {},
   "outputs": [
    {
     "data": {
      "text/plain": [
       "CircuitInstruction(operation=Instruction(name='barrier', num_qubits=3, num_clbits=0, params=[]), qubits=(Qubit(QuantumRegister(1, 'alice'), 0), Qubit(QuantumRegister(1, 'bob'), 0), Qubit(QuantumRegister(1, 'random'), 0)), clbits=())"
      ]
     },
     "execution_count": 15,
     "metadata": {},
     "output_type": "execute_result"
    }
   ],
   "source": [
    "\n",
    "# Measure the random qubit in superposition to randomly generate c and d\n",
    "circuit.h(random_bit)\n",
    "circuit.measure(random_bit, alice_classical[0])\n",
    "circuit.h(random_bit)  # Apply another H to random_bit for second random value\n",
    "circuit.measure(random_bit, alice_classical[1])\n",
    "circuit.barrier()"
   ]
  },
  {
   "cell_type": "markdown",
   "metadata": {},
   "source": [
    "# Step 3: Encode Alice's message using the values of c and d"
   ]
  },
  {
   "cell_type": "code",
   "execution_count": null,
   "metadata": {},
   "outputs": [
    {
     "data": {
      "text/plain": [
       "CircuitInstruction(operation=Instruction(name='barrier', num_qubits=3, num_clbits=0, params=[]), qubits=(Qubit(QuantumRegister(1, 'alice'), 0), Qubit(QuantumRegister(1, 'bob'), 0), Qubit(QuantumRegister(1, 'random'), 0)), clbits=())"
      ]
     },
     "execution_count": 16,
     "metadata": {},
     "output_type": "execute_result"
    }
   ],
   "source": [
    "\n",
    "# Conditionally apply gates based on random values of c and d\n",
    "with circuit.if_test((alice_classical[0], 1)):\n",
    "    circuit.x(alice_qubit)\n",
    "with circuit.if_test((alice_classical[1], 1)):\n",
    "    circuit.z(alice_qubit)\n",
    "circuit.barrier()"
   ]
  },
  {
   "cell_type": "markdown",
   "metadata": {},
   "source": [
    "# Step 4: Bob decodes Alice's message"
   ]
  },
  {
   "cell_type": "code",
   "execution_count": null,
   "metadata": {},
   "outputs": [
    {
     "data": {
      "text/plain": [
       "CircuitInstruction(operation=Instruction(name='barrier', num_qubits=3, num_clbits=0, params=[]), qubits=(Qubit(QuantumRegister(1, 'alice'), 0), Qubit(QuantumRegister(1, 'bob'), 0), Qubit(QuantumRegister(1, 'random'), 0)), clbits=())"
      ]
     },
     "execution_count": 17,
     "metadata": {},
     "output_type": "execute_result"
    }
   ],
   "source": [
    "\n",
    "circuit.cx(alice_qubit, bob_qubit)\n",
    "circuit.h(alice_qubit)\n",
    "circuit.barrier()\n"
   ]
  },
  {
   "cell_type": "markdown",
   "metadata": {},
   "source": [
    "# Step 5: Measure to retrieve c and d from Bob's qubits"
   ]
  },
  {
   "cell_type": "code",
   "execution_count": null,
   "metadata": {},
   "outputs": [
    {
     "data": {
      "text/plain": [
       "<qiskit.circuit.instructionset.InstructionSet at 0x222fc062c80>"
      ]
     },
     "execution_count": 18,
     "metadata": {},
     "output_type": "execute_result"
    }
   ],
   "source": [
    "\n",
    "circuit.measure(alice_qubit, bob_classical[0])\n",
    "circuit.measure(bob_qubit, bob_classical[1])"
   ]
  },
  {
   "cell_type": "code",
   "execution_count": 19,
   "metadata": {},
   "outputs": [],
   "source": [
    "# Run the simulation\n",
    "simulator = AerSimulator()\n",
    "result = simulator.run(circuit).result()\n",
    "counts = result.get_counts()"
   ]
  },
  {
   "cell_type": "code",
   "execution_count": 24,
   "metadata": {},
   "outputs": [
    {
     "name": "stdout",
     "output_type": "stream",
     "text": [
      "Quantum Circuit:\n",
      "              ┌───┐      ░                  ░       ┌──────       ┌───┐»\n",
      "       alice: ┤ H ├──■───░──────────────────░───────┤ If-0  ──────┤ X ├»\n",
      "              └───┘┌─┴─┐ ░                  ░       └──╥───       └───┘»\n",
      "         bob: ─────┤ X ├─░──────────────────░──────────╫───────────────»\n",
      "                   └───┘ ░ ┌───┐┌─┐┌───┐┌─┐ ░          ║               »\n",
      "      random: ───────────░─┤ H ├┤M├┤ H ├┤M├─░──────────╫───────────────»\n",
      "                         ░ └───┘└╥┘└───┘└╥┘ ░ ┌────────╨─────────┐     »\n",
      "alice_bits: 2/═══════════════════╩═══════╩════╡ alice_bits_0=0x1 ╞═════»\n",
      "                                 0       1    └──────────────────┘     »\n",
      "  bob_bits: 2/═════════════════════════════════════════════════════════»\n",
      "                                                                       »\n",
      "«               ───────┐       ┌──────       ┌───┐ ───────┐  ░      ┌───┐ ░ ┌─┐»\n",
      "«       alice:   End-0 ├───────┤ If-0  ──────┤ Z ├  End-0 ├──░───■──┤ H ├─░─┤M├»\n",
      "«               ───────┘       └──╥───       └───┘ ───────┘  ░ ┌─┴─┐└───┘ ░ └╥┘»\n",
      "«         bob: ───────────────────╫──────────────────────────░─┤ X ├──────░──╫─»\n",
      "«                                 ║                          ░ └───┘      ░  ║ »\n",
      "«      random: ───────────────────╫──────────────────────────░────────────░──╫─»\n",
      "«                        ┌────────╨─────────┐                ░            ░  ║ »\n",
      "«alice_bits: 2/══════════╡ alice_bits_1=0x1 ╞════════════════════════════════╬═»\n",
      "«                        └──────────────────┘                                ║ »\n",
      "«  bob_bits: 2/══════════════════════════════════════════════════════════════╩═»\n",
      "«                                                                            0 »\n",
      "«                 \n",
      "«       alice: ───\n",
      "«              ┌─┐\n",
      "«         bob: ┤M├\n",
      "«              └╥┘\n",
      "«      random: ─╫─\n",
      "«               ║ \n",
      "«alice_bits: 2/═╬═\n",
      "«               ║ \n",
      "«  bob_bits: 2/═╩═\n",
      "«               1 \n",
      "\n",
      "Measurement Counts:\n",
      "{'10 01': 273, '01 10': 263, '11 11': 218, '00 00': 270}\n"
     ]
    }
   ],
   "source": [
    "# Display the circuit and results\n",
    "print(\"Quantum Circuit:\")\n",
    "print(circuit)\n",
    "print(\"\\nMeasurement Counts:\")\n",
    "print(counts)\n",
    "plot_histogram(counts)\n",
    "plt.show()\n"
   ]
  },
  {
   "cell_type": "markdown",
   "metadata": {},
   "source": [
    "The output counts confirms that Alice and Bob's classical bits match, which indicates superdense coding protocol is working correctly"
   ]
  }
 ],
 "metadata": {
  "kernelspec": {
   "display_name": "Python 3",
   "language": "python",
   "name": "python3"
  },
  "language_info": {
   "codemirror_mode": {
    "name": "ipython",
    "version": 3
   },
   "file_extension": ".py",
   "mimetype": "text/x-python",
   "name": "python",
   "nbconvert_exporter": "python",
   "pygments_lexer": "ipython3",
   "version": "3.10.11"
  }
 },
 "nbformat": 4,
 "nbformat_minor": 2
}
